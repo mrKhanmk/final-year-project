{
 "cells": [
  {
   "cell_type": "code",
   "execution_count": 1,
   "id": "e0c9fbc2",
   "metadata": {},
   "outputs": [],
   "source": [
    "import google.generativeai as genai\n",
    "import os\n",
    "from dotenv import load_dotenv\n",
    "from data import preimage_data\n",
    "load_dotenv()\n",
    "from PIL import Image\n",
    "import ast"
   ]
  },
  {
   "cell_type": "code",
   "execution_count": 10,
   "id": "fcbc208f",
   "metadata": {},
   "outputs": [],
   "source": [
    "prompt = \"\"\"\n",
    "\n",
    "**Prompt for Vision GPT (with JSON output):**\n",
    "\n",
    "\"You are a recipe generation AI. When given an image of a food dish, analyze the visual features (ingredients, texture, colors, presentation, etc.) to identify the dish and generate a complete recipe.  \n",
    "\n",
    "Your output **must be in JSON format** with the following structure:\n",
    "\n",
    "```json\n",
    "{\n",
    "  'dish_name': 'String - Name of the dish',\n",
    "  'cuisine': 'String - Estimated cuisine (e.g., Italian, Indian)',\n",
    "  'ingredients': [\n",
    "    'List of main ingredients visually identified'\n",
    "  ],\n",
    "  'prep_time_minutes': Integer,\n",
    "  'cook_time_minutes': Integer,\n",
    "  'instructions': [\n",
    "    'Step-by-step cooking instructions as a list of strings'\n",
    "  ],\n",
    "  'serving_suggestions': 'Optional string with serving ideas or sides',\n",
    "  'tags': ['Optional dietary tags like vegan, gluten-free, spicy']\n",
    "}\n",
    "```\n",
    "\n",
    "\"\"\""
   ]
  },
  {
   "cell_type": "code",
   "execution_count": 11,
   "id": "91146c9c",
   "metadata": {},
   "outputs": [],
   "source": [
    "\n",
    "\n",
    "\n",
    "class food_recipe_generator:\n",
    "\n",
    "    \n",
    "\n",
    "    def report(self,image):\n",
    "        def input_file(uploaded_file=None, file_path=None):\n",
    "            if uploaded_file:\n",
    "                # Handle file upload\n",
    "                bytes_data = uploaded_file.read()\n",
    "                image_parts = {\n",
    "                    \"mime_type\": uploaded_file.mimetype,\n",
    "                    \"data\": bytes_data\n",
    "                }\n",
    "                return image_parts\n",
    "            elif file_path:\n",
    "                # Handle file path\n",
    "                with open(file_path, 'rb') as f:\n",
    "                    bytes_data = f.read()\n",
    "                # Here you would need to determine the MIME type, but for simplicity, it's left as 'image/jpeg'\n",
    "                # In a real-world scenario, you might use the `mimetypes` library to detect the MIME type.\n",
    "                image_parts = {\n",
    "                    \"mime_type\": 'image/jpeg',\n",
    "                    \"data\": bytes_data\n",
    "                }\n",
    "                return image_parts\n",
    "            else:\n",
    "                return None\n",
    "            \n",
    "        \n",
    "        image = input_file(file_path=image)\n",
    "        \n",
    "        load_dotenv()\n",
    "        api_key = os.getenv('GOOGLE_API_KEY')\n",
    "        genai.configure(api_key=api_key) \n",
    "        \n",
    "        model = genai.GenerativeModel(model_name=\"gemini-1.5-flash\")\n",
    "        response = model.generate_content([image, prompt])\n",
    "        \n",
    "        response = response.text\n",
    "\n",
    "\n",
    "        return response"
   ]
  },
  {
   "cell_type": "code",
   "execution_count": 15,
   "id": "60a2cf70",
   "metadata": {},
   "outputs": [
    {
     "name": "stdout",
     "output_type": "stream",
     "text": [
      "json\n",
      "{\n",
      "  \"dish_name\": \"Chicken Biryani\",\n",
      "  \"cuisine\": \"Indian\",\n",
      "  \"ingredients\": [\n",
      "    \"1.5 lbs boneless, skinless chicken thighs, cut into 1-inch pieces\",\n",
      "    \"1 large onion, thinly sliced\",\n",
      "    \"2 cups basmati rice, soaked in water for 30 minutes\",\n",
      "    \"1 cup plain yogurt\",\n",
      "    \"2 tbsp ginger-garlic paste\",\n",
      "    \"1 tsp turmeric powder\",\n",
      "    \"1 tsp red chili powder (adjust to taste)\",\n",
      "    \"1 tsp coriander powder\",\n",
      "    \"1 tsp cumin powder\",\n",
      "    \"1/2 tsp garam masala\",\n",
      "    \"1/4 tsp saffron strands, soaked in 1/4 cup warm milk\",\n",
      "    \"1/2 cup chopped fresh mint\",\n",
      "    \"1/2 cup chopped fresh cilantro\",\n",
      "    \"2 tbsp ghee or vegetable oil\",\n",
      "    \"Salt to taste\",\n",
      "    \"Fried onions for garnish\",\n",
      "    \"Mint sprigs for garnish\"\n",
      "\n",
      "  ],\n",
      "  \"prep_time_minutes\": 30,\n",
      "  \"cook_time_minutes\": 45,\n",
      "  \"instructions\": [\n",
      "    \"Marinate the chicken: In a large bowl, combine the chicken pieces with yogurt, ginger-garlic paste, turmeric powder, red chili powder, coriander powder, cumin powder, garam masala, and salt. Mix well and let it marinate for at least 30 minutes.\",\n",
      "    \"Sauté onions: Heat ghee or oil in a large pot or Dutch oven over medium heat. Add the sliced onions and sauté until golden brown and crispy. Remove the onions and set aside, reserving some of the oil in the pot.\",\n",
      "    \"Cook chicken: Add the marinated chicken to the pot and cook until browned on all sides. \",\n",
      "    \"Add spices: Add the soaked basmati rice to the pot and stir to coat the rice with the spices and oil. Add 3 cups of water and bring to a boil.\",\n",
      "    \"Simmer: Reduce the heat to low, cover the pot, and simmer for 15-20 minutes, or until the rice is cooked through and the liquid is absorbed. \",\n",
      "    \"Add saffron milk and herbs: Gently stir in the saffron milk, mint, and cilantro. Cover and let it sit for 5 minutes to allow the flavors to meld. \",\n",
      "    \"Garnish and serve: Fluff the rice gently with a fork. Garnish with fried onions and fresh mint sprigs. Serve hot with raita (yogurt dip).\"\n",
      "  ],\n",
      "  \"serving_suggestions\": \"Serve hot with raita (yogurt dip) and a side salad.\",\n",
      "  \"tags\": [\"Indian\", \"Chicken\", \"Rice\", \"Spicy\"]\n",
      "}\n",
      "```\n"
     ]
    }
   ],
   "source": [
    "image_path = \"t.jpg\"\n",
    "food = food_recipe_generator()\n",
    "response = food.report(image_path)\n",
    "print(response[3:])"
   ]
  },
  {
   "cell_type": "code",
   "execution_count": 18,
   "id": "901d15a6",
   "metadata": {},
   "outputs": [
    {
     "name": "stdout",
     "output_type": "stream",
     "text": [
      "\n",
      "{\n",
      "  \"dish_name\": \"Chicken Biryani\",\n",
      "  \"cuisine\": \"Indian\",\n",
      "  \"ingredients\": [\n",
      "    \"1.5 lbs boneless, skinless chicken thighs, cut into 1-inch pieces\",\n",
      "    \"1 large onion, thinly sliced\",\n",
      "    \"2 cups basmati rice, soaked in water for 30 minutes\",\n",
      "    \"1 cup plain yogurt\",\n",
      "    \"2 tbsp ginger-garlic paste\",\n",
      "    \"1 tsp turmeric powder\",\n",
      "    \"1 tsp red chili powder (adjust to taste)\",\n",
      "    \"1 tsp coriander powder\",\n",
      "    \"1 tsp cumin powder\",\n",
      "    \"1/2 tsp garam masala\",\n",
      "    \"1/4 tsp saffron strands, soaked in 1/4 cup warm milk\",\n",
      "    \"1/2 cup chopped fresh mint\",\n",
      "    \"1/2 cup chopped fresh cilantro\",\n",
      "    \"2 tbsp ghee or vegetable oil\",\n",
      "    \"Salt to taste\",\n",
      "    \"Fried onions for garnish\",\n",
      "    \"Mint sprigs for garnish\"\n",
      "\n",
      "  ],\n",
      "  \"prep_time_minutes\": 30,\n",
      "  \"cook_time_minutes\": 45,\n",
      "  \"instructions\": [\n",
      "    \"Marinate the chicken: In a large bowl, combine the chicken pieces with yogurt, ginger-garlic paste, turmeric powder, red chili powder, coriander powder, cumin powder, garam masala, and salt. Mix well and let it marinate for at least 30 minutes.\",\n",
      "    \"Sauté onions: Heat ghee or oil in a large pot or Dutch oven over medium heat. Add the sliced onions and sauté until golden brown and crispy. Remove the onions and set aside, reserving some of the oil in the pot.\",\n",
      "    \"Cook chicken: Add the marinated chicken to the pot and cook until browned on all sides. \",\n",
      "    \"Add spices: Add the soaked basmati rice to the pot and stir to coat the rice with the spices and oil. Add 3 cups of water and bring to a boil.\",\n",
      "    \"Simmer: Reduce the heat to low, cover the pot, and simmer for 15-20 minutes, or until the rice is cooked through and the liquid is absorbed. \",\n",
      "    \"Add saffron milk and herbs: Gently stir in the saffron milk, mint, and cilantro. Cover and let it sit for 5 minutes to allow the flavors to meld. \",\n",
      "    \"Garnish and serve: Fluff the rice gently with a fork. Garnish with fried onions and fresh mint sprigs. Serve hot with raita (yogurt dip).\"\n",
      "  ],\n",
      "  \"serving_suggestions\": \"Serve hot with raita (yogurt dip) and a side salad.\",\n",
      "  \"tags\": [\"Indian\", \"Chicken\", \"Rice\", \"Spicy\"]\n",
      "}\n",
      "\n"
     ]
    }
   ],
   "source": [
    "print(response[7:-3])"
   ]
  },
  {
   "cell_type": "code",
   "execution_count": 5,
   "id": "0c5a213a",
   "metadata": {},
   "outputs": [
    {
     "ename": "JSONDecodeError",
     "evalue": "Extra data: line 36 column 1 (char 1908)",
     "output_type": "error",
     "traceback": [
      "\u001b[1;31m---------------------------------------------------------------------------\u001b[0m",
      "\u001b[1;31mJSONDecodeError\u001b[0m                           Traceback (most recent call last)",
      "Cell \u001b[1;32mIn[5], line 4\u001b[0m\n\u001b[0;32m      1\u001b[0m \u001b[38;5;28;01mimport\u001b[39;00m\u001b[38;5;250m \u001b[39m\u001b[38;5;21;01mjson\u001b[39;00m\n\u001b[0;32m      3\u001b[0m json_str \u001b[38;5;241m=\u001b[39m \u001b[38;5;124m'\u001b[39m\u001b[38;5;124m{\u001b[39m\u001b[38;5;124m\"\u001b[39m\u001b[38;5;124mname\u001b[39m\u001b[38;5;124m\"\u001b[39m\u001b[38;5;124m: \u001b[39m\u001b[38;5;124m\"\u001b[39m\u001b[38;5;124mPizza\u001b[39m\u001b[38;5;124m\"\u001b[39m\u001b[38;5;124m, \u001b[39m\u001b[38;5;124m\"\u001b[39m\u001b[38;5;124mingredients\u001b[39m\u001b[38;5;124m\"\u001b[39m\u001b[38;5;124m: [\u001b[39m\u001b[38;5;124m\"\u001b[39m\u001b[38;5;124mcheese\u001b[39m\u001b[38;5;124m\"\u001b[39m\u001b[38;5;124m, \u001b[39m\u001b[38;5;124m\"\u001b[39m\u001b[38;5;124mdough\u001b[39m\u001b[38;5;124m\"\u001b[39m\u001b[38;5;124m, \u001b[39m\u001b[38;5;124m\"\u001b[39m\u001b[38;5;124msauce\u001b[39m\u001b[38;5;124m\"\u001b[39m\u001b[38;5;124m]}\u001b[39m\u001b[38;5;124m'\u001b[39m\n\u001b[1;32m----> 4\u001b[0m data \u001b[38;5;241m=\u001b[39m \u001b[43mjson\u001b[49m\u001b[38;5;241;43m.\u001b[39;49m\u001b[43mloads\u001b[49m\u001b[43m(\u001b[49m\u001b[43mresponse\u001b[49m\u001b[43m[\u001b[49m\u001b[38;5;241;43m7\u001b[39;49m\u001b[43m:\u001b[49m\u001b[38;5;241;43m-\u001b[39;49m\u001b[38;5;241;43m3\u001b[39;49m\u001b[43m]\u001b[49m\u001b[43m)\u001b[49m\n\u001b[0;32m      6\u001b[0m \u001b[38;5;28mprint\u001b[39m(data)  \u001b[38;5;66;03m# Output: Pizza\u001b[39;00m\n",
      "File \u001b[1;32m~\\AppData\\Local\\Programs\\Python\\Python310\\lib\\json\\__init__.py:346\u001b[0m, in \u001b[0;36mloads\u001b[1;34m(s, cls, object_hook, parse_float, parse_int, parse_constant, object_pairs_hook, **kw)\u001b[0m\n\u001b[0;32m    341\u001b[0m     s \u001b[38;5;241m=\u001b[39m s\u001b[38;5;241m.\u001b[39mdecode(detect_encoding(s), \u001b[38;5;124m'\u001b[39m\u001b[38;5;124msurrogatepass\u001b[39m\u001b[38;5;124m'\u001b[39m)\n\u001b[0;32m    343\u001b[0m \u001b[38;5;28;01mif\u001b[39;00m (\u001b[38;5;28mcls\u001b[39m \u001b[38;5;129;01mis\u001b[39;00m \u001b[38;5;28;01mNone\u001b[39;00m \u001b[38;5;129;01mand\u001b[39;00m object_hook \u001b[38;5;129;01mis\u001b[39;00m \u001b[38;5;28;01mNone\u001b[39;00m \u001b[38;5;129;01mand\u001b[39;00m\n\u001b[0;32m    344\u001b[0m         parse_int \u001b[38;5;129;01mis\u001b[39;00m \u001b[38;5;28;01mNone\u001b[39;00m \u001b[38;5;129;01mand\u001b[39;00m parse_float \u001b[38;5;129;01mis\u001b[39;00m \u001b[38;5;28;01mNone\u001b[39;00m \u001b[38;5;129;01mand\u001b[39;00m\n\u001b[0;32m    345\u001b[0m         parse_constant \u001b[38;5;129;01mis\u001b[39;00m \u001b[38;5;28;01mNone\u001b[39;00m \u001b[38;5;129;01mand\u001b[39;00m object_pairs_hook \u001b[38;5;129;01mis\u001b[39;00m \u001b[38;5;28;01mNone\u001b[39;00m \u001b[38;5;129;01mand\u001b[39;00m \u001b[38;5;129;01mnot\u001b[39;00m kw):\n\u001b[1;32m--> 346\u001b[0m     \u001b[38;5;28;01mreturn\u001b[39;00m \u001b[43m_default_decoder\u001b[49m\u001b[38;5;241;43m.\u001b[39;49m\u001b[43mdecode\u001b[49m\u001b[43m(\u001b[49m\u001b[43ms\u001b[49m\u001b[43m)\u001b[49m\n\u001b[0;32m    347\u001b[0m \u001b[38;5;28;01mif\u001b[39;00m \u001b[38;5;28mcls\u001b[39m \u001b[38;5;129;01mis\u001b[39;00m \u001b[38;5;28;01mNone\u001b[39;00m:\n\u001b[0;32m    348\u001b[0m     \u001b[38;5;28mcls\u001b[39m \u001b[38;5;241m=\u001b[39m JSONDecoder\n",
      "File \u001b[1;32m~\\AppData\\Local\\Programs\\Python\\Python310\\lib\\json\\decoder.py:340\u001b[0m, in \u001b[0;36mJSONDecoder.decode\u001b[1;34m(self, s, _w)\u001b[0m\n\u001b[0;32m    338\u001b[0m end \u001b[38;5;241m=\u001b[39m _w(s, end)\u001b[38;5;241m.\u001b[39mend()\n\u001b[0;32m    339\u001b[0m \u001b[38;5;28;01mif\u001b[39;00m end \u001b[38;5;241m!=\u001b[39m \u001b[38;5;28mlen\u001b[39m(s):\n\u001b[1;32m--> 340\u001b[0m     \u001b[38;5;28;01mraise\u001b[39;00m JSONDecodeError(\u001b[38;5;124m\"\u001b[39m\u001b[38;5;124mExtra data\u001b[39m\u001b[38;5;124m\"\u001b[39m, s, end)\n\u001b[0;32m    341\u001b[0m \u001b[38;5;28;01mreturn\u001b[39;00m obj\n",
      "\u001b[1;31mJSONDecodeError\u001b[0m: Extra data: line 36 column 1 (char 1908)"
     ]
    }
   ],
   "source": [
    "import json\n",
    "\n",
    "json_str = '{\"name\": \"Pizza\", \"ingredients\": [\"cheese\", \"dough\", \"sauce\"]}'\n",
    "data = json.loads(response[7:-3])\n",
    "\n",
    "print(data)  # Output: Pizza\n"
   ]
  },
  {
   "cell_type": "code",
   "execution_count": null,
   "id": "8ecd31d2",
   "metadata": {},
   "outputs": [],
   "source": []
  },
  {
   "cell_type": "code",
   "execution_count": null,
   "id": "756cf5ef",
   "metadata": {},
   "outputs": [],
   "source": []
  },
  {
   "cell_type": "code",
   "execution_count": null,
   "id": "254b1707",
   "metadata": {},
   "outputs": [],
   "source": []
  },
  {
   "cell_type": "code",
   "execution_count": 1,
   "id": "ffaabb53",
   "metadata": {},
   "outputs": [
    {
     "name": "stderr",
     "output_type": "stream",
     "text": [
      "c:\\Code\\recipe\\FoodRecipe\\lib\\site-packages\\tqdm\\auto.py:21: TqdmWarning: IProgress not found. Please update jupyter and ipywidgets. See https://ipywidgets.readthedocs.io/en/stable/user_install.html\n",
      "  from .autonotebook import tqdm as notebook_tqdm\n"
     ]
    },
    {
     "name": "stdout",
     "output_type": "stream",
     "text": [
      "\n",
      "{\n",
      "  \"dish_name\": \"Chicken Biryani\",\n",
      "  \"cuisine\": \"Indian\",\n",
      "  \"ingredients\": [\n",
      "    \"1.5 lbs boneless, skinless chicken thighs, cut into 1-inch pieces\",\n",
      "    \"1 large onion, thinly sliced\",\n",
      "    \"2 cups basmati rice, rinsed\",\n",
      "    \"4 cups chicken broth\",\n",
      "    \"1 cup plain yogurt\",\n",
      "    \"2 tablespoons ginger-garlic paste\",\n",
      "    \"1 teaspoon turmeric powder\",\n",
      "    \"1 teaspoon red chili powder (adjust to taste)\",\n",
      "    \"1 teaspoon garam masala\",\n",
      "    \"1/2 teaspoon coriander powder\",\n",
      "    \"1/4 teaspoon saffron threads\",\n",
      "    \"1/4 cup chopped fresh cilantro\",\n",
      "    \"1/4 cup chopped fresh mint\",\n",
      "    \"2 tablespoons vegetable oil\",\n",
      "    \"Salt to taste\",\n",
      "    \"Fried onions for garnish\"\n",
      "  ],\n",
      "  \"prep_time_minutes\": 20,\n",
      "  \"cook_time_minutes\": 45,\n",
      "  \"instructions\": [\n",
      "    \"Marinate the chicken: In a large bowl, combine the chicken pieces with yogurt, ginger-garlic paste, turmeric powder, red chili powder, garam masala, coriander powder, salt, and half of the cilantro and mint. Mix well and marinate for at least 30 minutes (longer is better).\",\n",
      "    \"Sauté onions: Heat oil in a large pot or Dutch oven over medium heat. Add sliced onions and sauté until golden brown and crispy. Remove the onions and set aside, reserving the oil in the pot.\",\n",
      "    \"Cook the chicken: Add the marinated chicken to the pot and cook until browned on all sides. \",\n",
      "    \"Add rice and broth: Stir in the rice, chicken broth, and saffron threads. Bring to a boil, then reduce heat to low, cover, and simmer for 15-20 minutes, or until the rice is cooked through and the liquid is absorbed.\",\n",
      "    \"Fluff and garnish: Gently fluff the biryani with a fork. Stir in the remaining cilantro and mint. Garnish with fried onions.\",\n",
      "    \"Rest and serve: Cover and let the biryani rest for 5-10 minutes before serving.\"\n",
      "  ],\n",
      "  \"serving_suggestions\": \"Serve hot with raita (yogurt dip) and a side of salad.\",\n",
      "  \"tags\": [\"Indian\", \"Chicken\", \"Rice\", \"Spicy\"]\n",
      "}\n",
      "\n"
     ]
    }
   ],
   "source": [
    "from Food import food_recipe_generator\n",
    "food = food_recipe_generator()\n",
    "response = food.report(image=\"t.jpg\")\n",
    "print(response[7:-4])"
   ]
  },
  {
   "cell_type": "code",
   "execution_count": 2,
   "id": "d6b063c4",
   "metadata": {},
   "outputs": [
    {
     "name": "stdout",
     "output_type": "stream",
     "text": [
      "\n",
      "{\n",
      "  \"dish_name\": \"Chicken Biryani\",\n",
      "  \"cuisine\": \"Indian\",\n",
      "  \"ingredients\": [\n",
      "    \"1.5 lbs boneless, skinless chicken thighs, cut into 1-inch pieces\",\n",
      "    \"1 large onion, thinly sliced\",\n",
      "    \"2 cups basmati rice, rinsed\",\n",
      "    \"4 cups chicken broth\",\n",
      "    \"1 cup plain yogurt\",\n",
      "    \"2 tablespoons ginger-garlic paste\",\n",
      "    \"1 teaspoon turmeric powder\",\n",
      "    \"1 teaspoon red chili powder (adjust to taste)\",\n",
      "    \"1 teaspoon garam masala\",\n",
      "    \"1/2 teaspoon coriander powder\",\n",
      "    \"1/4 teaspoon saffron threads\",\n",
      "    \"1/4 cup chopped fresh cilantro\",\n",
      "    \"1/4 cup chopped fresh mint\",\n",
      "    \"2 tablespoons vegetable oil\",\n",
      "    \"Salt to taste\",\n",
      "    \"Fried onions for garnish\"\n",
      "  ],\n",
      "  \"prep_time_minutes\": 20,\n",
      "  \"cook_time_minutes\": 45,\n",
      "  \"instructions\": [\n",
      "    \"Marinate the chicken: In a large bowl, combine the chicken pieces with yogurt, ginger-garlic paste, turmeric powder, red chili powder, garam masala, coriander powder, salt, and half of the cilantro and mint. Mix well and marinate for at least 30 minutes (longer is better).\",\n",
      "    \"Sauté onions: Heat oil in a large pot or Dutch oven over medium heat. Add sliced onions and sauté until golden brown and crispy. Remove the onions and set aside, reserving the oil in the pot.\",\n",
      "    \"Cook the chicken: Add the marinated chicken to the pot and cook until browned on all sides. \",\n",
      "    \"Add rice and broth: Stir in the rice, chicken broth, and saffron threads. Bring to a boil, then reduce heat to low, cover, and simmer for 15-20 minutes, or until the rice is cooked through and the liquid is absorbed.\",\n",
      "    \"Fluff and garnish: Gently fluff the biryani with a fork. Stir in the remaining cilantro and mint. Garnish with fried onions.\",\n",
      "    \"Rest and serve: Cover and let the biryani rest for 5-10 minutes before serving.\"\n",
      "  ],\n",
      "  \"serving_suggestions\": \"Serve hot with raita (yogurt dip) and a side of salad.\",\n",
      "  \"tags\": [\"Indian\", \"Chicken\", \"Rice\", \"Spicy\"]\n",
      "}\n",
      "\n"
     ]
    }
   ],
   "source": [
    "print(response[7:-4])"
   ]
  }
 ],
 "metadata": {
  "kernelspec": {
   "display_name": "FoodRecipe",
   "language": "python",
   "name": "python3"
  },
  "language_info": {
   "codemirror_mode": {
    "name": "ipython",
    "version": 3
   },
   "file_extension": ".py",
   "mimetype": "text/x-python",
   "name": "python",
   "nbconvert_exporter": "python",
   "pygments_lexer": "ipython3",
   "version": "3.10.0"
  }
 },
 "nbformat": 4,
 "nbformat_minor": 5
}
